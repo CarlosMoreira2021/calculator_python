{
  "nbformat": 4,
  "nbformat_minor": 0,
  "metadata": {
    "colab": {
      "name": " calculator",
      "provenance": [],
      "authorship_tag": "ABX9TyNWdb/yJLkNaMPnLOeLQbXh",
      "include_colab_link": true
    },
    "kernelspec": {
      "name": "python3",
      "display_name": "Python 3"
    },
    "language_info": {
      "name": "python"
    }
  },
  "cells": [
    {
      "cell_type": "markdown",
      "metadata": {
        "id": "view-in-github",
        "colab_type": "text"
      },
      "source": [
        "<a href=\"https://colab.research.google.com/github/CarlosMoreira2021/calculator_python/blob/main/calculator.ipynb\" target=\"_parent\"><img src=\"https://colab.research.google.com/assets/colab-badge.svg\" alt=\"Open In Colab\"/></a>"
      ]
    },
    {
      "cell_type": "code",
      "execution_count": null,
      "metadata": {
        "id": "ivrgCCA9w7Z_"
      },
      "outputs": [],
      "source": [
        "# calculator\n",
        "\n",
        "def add(x,y):\n",
        "  return x + y\n",
        "\n",
        "def subtract(x,y):\n",
        "  return x - y\n",
        "\n",
        "def multiply(x,y):\n",
        "  return x * y\n",
        "\n",
        "def divide(x,y):\n",
        "  return x * y\n",
        "\n",
        "def divide (x,y):\n",
        "  return x / y\n",
        "\n",
        "print('Select operation')\n",
        "print('1.Add')\n",
        "print('2.Subtract')\n",
        "print('3.Multiply')\n",
        "print('Divide')\n",
        "\n",
        "\n",
        "while True:\n",
        "  choice = input('Enter choice (1/2/3/4): ')\n",
        "\n",
        "  if choice in ('1','2','3','4'):\n",
        "    num1 = float(input('Enter first number: '))\n",
        "    num2 = float(input('Enter second number: '))\n",
        "\n",
        "    if choice == '1':\n",
        "      print(num1,'+',num2,'=',add(num1,num2))\n",
        "\n",
        "    elif choice == '2':\n",
        "      print(num1,'-',num2,'=',subtract(num1,num2))\n",
        "    \n",
        "    elif choice == '3':\n",
        "      print(num1,'*',num2,'=',multiply(num1,num2))\n",
        "\n",
        "    elif choice == '4':\n",
        "      print(num1,'/',num2,'=',divide(num1,num2))\n",
        "    break\n",
        "   \n",
        "    \n",
        "\n",
        "\n"
      ]
    }
  ]
}